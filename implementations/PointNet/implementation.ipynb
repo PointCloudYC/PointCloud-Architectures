{
 "cells": [
  {
   "cell_type": "markdown",
   "metadata": {
    "toc-hr-collapsed": false
   },
   "source": [
    "# Implementation of PointNet\n",
    "We will use the tensorflow.keras Functional API to build PointNet from the original paper: “PointNet: Deep Learning on Point Sets for 3D Classification and Segmentation” by Charles R. Qi*, Hao Su*, Kaichun Mo,and Leonidas J. Guibas. (* indicates equal contributions)"
   ]
  },
  {
   "cell_type": "markdown",
   "metadata": {},
   "source": [
    "## Architecture diagram\n",
    "![architecture.png](architecture.png)"
   ]
  },
  {
   "cell_type": "markdown",
   "metadata": {},
   "source": [
    "## Implementation details\n",
    "In the paper we can get the implementation details of PointNet classification and segmentation arhitecture where they share a portion of architecture (shown in below figure)\n",
    "\n",
    "**PointNet classification**\n",
    "\n",
    "(1) Input: the input is Nx3.(Note: additional features can be added for each point, the input can be denoted as NxD)\n",
    "\n",
    "(2)\tInput transform. Apply a T-Net module (which outputs a 3x3 transformation matrix) to standardize the input.\n",
    "\n",
    "(3)\tTwo point-wise convolution. shared mlp(64,64)\n",
    "\n",
    "(4)\tFeature transform. Apply a T-Net module (which outputs a 64x64 transformation matrix) to standardize the feature.\n",
    "\n",
    "(5)\tThree point-wise convolution. shared mlp(64,128,1024)\n",
    "\n",
    "(6)\tMax pooling to aggregate information over all points to gain the global descriptor (1024 vector)\n",
    "\n",
    "(7)\tOutput: three fully connected layers to predict output scores. mlp(512,256,k)\n",
    "\n",
    "Note: Batchnorm is used for all layers with ReLU, and dropout layers are used for the last fully connected layer.\n",
    "\n",
    "**PointNet segmentation**\n",
    "\n",
    "(1)-(6)\n",
    "\n",
    "(8)\tConcatenate the global descriptor (1024 vector) with 3rd shared mlp layer (Nx64) to gain the local-global features(Nx1088) which contain both local and global structural information\n",
    "\n",
    "(9)\tFive point-wise convolution with shared mlp(512,256,128,128,m) to output the segmentation scores.\n",
    " "
   ]
  },
  {
   "cell_type": "markdown",
   "metadata": {
    "toc-hr-collapsed": true
   },
   "source": [
    "## Workflow of PointNet classification\n",
    "**classification**\n",
    "1. import the neccesary layers\n",
    "2. create the input layer\n",
    "3. tranform the input using T-Net(3x3)\n",
    "4. apply two point-wise convolution: mlp(64,64)\n",
    "5. tranform the feature input using T-Net(64x64)\n",
    "6. apply two point-wise convolution: mlp(64,128,1024)\n",
    "7. Aggregate over all points to gain the global descriptor (1024 vector)\n",
    "8. Classifiy with three fully connected layers: FC(512,256,k) \n"
   ]
  },
  {
   "cell_type": "markdown",
   "metadata": {},
   "source": [
    "### 1.imports\n"
   ]
  },
  {
   "cell_type": "code",
   "execution_count": 3,
   "metadata": {},
   "outputs": [],
   "source": [
    "import numpy as np \n",
    "import tensorflow as tf \n",
    "from tensorflow import keras\n",
    "from tnet import TNet\n",
    "from utils import custom_conv, custom_dense"
   ]
  },
  {
   "cell_type": "markdown",
   "metadata": {},
   "source": [
    "### 2.input"
   ]
  },
  {
   "cell_type": "code",
   "execution_count": 4,
   "metadata": {
    "tags": []
   },
   "outputs": [
    {
     "name": "stdout",
     "output_type": "stream",
     "text": [
      "(None, 4096, 3)\n"
     ]
    }
   ],
   "source": [
    "num_points=4096\n",
    "num_channels=3\n",
    "num_classes=40\n",
    "bn_momentum=0.99\n",
    "input = keras.Input(shape=(num_points,num_channels))\n",
    "print(input.shape)"
   ]
  },
  {
   "cell_type": "markdown",
   "metadata": {},
   "source": [
    "### 3.tranform the input using T-Net(3x3)"
   ]
  },
  {
   "cell_type": "code",
   "execution_count": 5,
   "metadata": {
    "tags": []
   },
   "outputs": [
    {
     "name": "stdout",
     "output_type": "stream",
     "text": [
      "(None, 4096, 3)\n"
     ]
    }
   ],
   "source": [
    "x= TNet(add_regularization=False,bn_momentum=bn_momentum)(input)\n",
    "print(x.shape)"
   ]
  },
  {
   "cell_type": "markdown",
   "metadata": {},
   "source": [
    "### 4.apply two point-wise convolution: mlp(64,64)"
   ]
  },
  {
   "cell_type": "code",
   "execution_count": 6,
   "metadata": {
    "tags": []
   },
   "outputs": [
    {
     "name": "stdout",
     "output_type": "stream",
     "text": [
      "(None, 4096, 64)\n"
     ]
    }
   ],
   "source": [
    "x = custom_conv(x,64)\n",
    "x = custom_conv(x,64)\n",
    "print(x.shape)"
   ]
  },
  {
   "cell_type": "markdown",
   "metadata": {},
   "source": [
    "### 5.tranform the feature input using T-Net(64x64)"
   ]
  },
  {
   "cell_type": "code",
   "execution_count": 7,
   "metadata": {
    "tags": []
   },
   "outputs": [
    {
     "name": "stdout",
     "output_type": "stream",
     "text": [
      "(None, 4096, 64)\n"
     ]
    }
   ],
   "source": [
    "x= TNet(add_regularization=True,bn_momentum=bn_momentum)(x)\n",
    "print(x.shape)"
   ]
  },
  {
   "cell_type": "markdown",
   "metadata": {},
   "source": [
    "### 6.apply two point-wise convolution: mlp(64,128,1024)"
   ]
  },
  {
   "cell_type": "code",
   "execution_count": 8,
   "metadata": {
    "tags": []
   },
   "outputs": [
    {
     "name": "stdout",
     "output_type": "stream",
     "text": [
      "(None, 4096, 1024)\n"
     ]
    }
   ],
   "source": [
    "x = custom_conv(x,64)\n",
    "x = custom_conv(x,128)\n",
    "x = custom_conv(x,1024)\n",
    "print(x.shape)"
   ]
  },
  {
   "cell_type": "markdown",
   "metadata": {},
   "source": [
    "### 7.Aggregate over all points to gain the global descriptor (1024 vector)"
   ]
  },
  {
   "cell_type": "code",
   "execution_count": 9,
   "metadata": {
    "tags": []
   },
   "outputs": [
    {
     "name": "stdout",
     "output_type": "stream",
     "text": [
      "(None, 1024)\n"
     ]
    }
   ],
   "source": [
    "x= keras.layers.GlobalMaxPool1D()(x)\n",
    "print(x.shape)"
   ]
  },
  {
   "cell_type": "markdown",
   "metadata": {},
   "source": [
    "### 8.Classifiy with three fully connected layers: FC(512,256,k) and create the model"
   ]
  },
  {
   "cell_type": "code",
   "execution_count": 10,
   "metadata": {
    "tags": []
   },
   "outputs": [
    {
     "name": "stdout",
     "output_type": "stream",
     "text": [
      "(None, 256)\n"
     ]
    }
   ],
   "source": [
    "x = custom_dense(x,512)\n",
    "x = custom_dense(x,256)\n",
    "x = keras.layers.Dropout(rate=0.3)(x)\n",
    "output = keras.layers.Dense(units=num_classes, activation='softmax')(x)\n",
    "print(output.shape)"
   ]
  },
  {
   "cell_type": "code",
   "execution_count": 11,
   "metadata": {},
   "outputs": [],
   "source": [
    "# build the model\n",
    "model = keras.models.Model(inputs=input, outputs=output)"
   ]
  },
  {
   "cell_type": "code",
   "execution_count": 12,
   "metadata": {
    "tags": []
   },
   "outputs": [
    {
     "name": "stdout",
     "output_type": "stream",
     "text": [
      "Model: \"model\"\n",
      "_________________________________________________________________\n",
      "Layer (type)                 Output Shape              Param #   \n",
      "=================================================================\n",
      "input_2 (InputLayer)         [(None, 4096, 3)]         0         \n",
      "_________________________________________________________________\n",
      "t_net (TNet)                 (None, 4096, 3)           801408    \n",
      "_________________________________________________________________\n",
      "conv1d (Conv1D)              (None, 4096, 64)          256       \n",
      "_________________________________________________________________\n",
      "batch_normalization_2 (Batch (None, 4096, 64)          256       \n",
      "_________________________________________________________________\n",
      "activation (Activation)      (None, 4096, 64)          0         \n",
      "_________________________________________________________________\n",
      "conv1d_1 (Conv1D)            (None, 4096, 64)          4160      \n",
      "_________________________________________________________________\n",
      "batch_normalization_3 (Batch (None, 4096, 64)          256       \n",
      "_________________________________________________________________\n",
      "activation_1 (Activation)    (None, 4096, 64)          0         \n",
      "_________________________________________________________________\n",
      "t_net_1 (TNet)               (None, 4096, 64)          1851584   \n",
      "_________________________________________________________________\n",
      "conv1d_2 (Conv1D)            (None, 4096, 64)          4160      \n",
      "_________________________________________________________________\n",
      "batch_normalization_6 (Batch (None, 4096, 64)          256       \n",
      "_________________________________________________________________\n",
      "activation_2 (Activation)    (None, 4096, 64)          0         \n",
      "_________________________________________________________________\n",
      "conv1d_3 (Conv1D)            (None, 4096, 128)         8320      \n",
      "_________________________________________________________________\n",
      "batch_normalization_7 (Batch (None, 4096, 128)         512       \n",
      "_________________________________________________________________\n",
      "activation_3 (Activation)    (None, 4096, 128)         0         \n",
      "_________________________________________________________________\n",
      "conv1d_4 (Conv1D)            (None, 4096, 1024)        132096    \n",
      "_________________________________________________________________\n",
      "batch_normalization_8 (Batch (None, 4096, 1024)        4096      \n",
      "_________________________________________________________________\n",
      "activation_4 (Activation)    (None, 4096, 1024)        0         \n",
      "_________________________________________________________________\n",
      "global_max_pooling1d (Global (None, 1024)              0         \n",
      "_________________________________________________________________\n",
      "dense_4 (Dense)              (None, 512)               524800    \n",
      "_________________________________________________________________\n",
      "batch_normalization_9 (Batch (None, 512)               2048      \n",
      "_________________________________________________________________\n",
      "activation_5 (Activation)    (None, 512)               0         \n",
      "_________________________________________________________________\n",
      "dense_5 (Dense)              (None, 256)               131328    \n",
      "_________________________________________________________________\n",
      "batch_normalization_10 (Batc (None, 256)               1024      \n",
      "_________________________________________________________________\n",
      "activation_6 (Activation)    (None, 256)               0         \n",
      "_________________________________________________________________\n",
      "dropout (Dropout)            (None, 256)               0         \n",
      "_________________________________________________________________\n",
      "dense_6 (Dense)              (None, 40)                10280     \n",
      "=================================================================\n",
      "Total params: 3,476,840\n",
      "Trainable params: 3,469,544\n",
      "Non-trainable params: 7,296\n",
      "_________________________________________________________________\n"
     ]
    }
   ],
   "source": [
    "model.summary()"
   ]
  },
  {
   "cell_type": "markdown",
   "metadata": {
    "toc-hr-collapsed": true
   },
   "source": [
    "## workflow of PointNet segmentation\n",
    "**segmentation**\n",
    "\n",
    "1. 1 to 7 steps of Classification.\n",
    "2. Concatenate the global descriptor (1024 vector) with 3rd shared mlp layer (Nx64) to gain the local-global features(Nx1088)\n",
    "3. apply five point-wise convolution-mlp(512,256,128,128,m) to output the segmentation scores."
   ]
  },
  {
   "cell_type": "markdown",
   "metadata": {},
   "source": [
    "### 1.1- 7 steps of classifcaiton"
   ]
  },
  {
   "cell_type": "code",
   "execution_count": 13,
   "metadata": {
    "tags": []
   },
   "outputs": [
    {
     "name": "stdout",
     "output_type": "stream",
     "text": [
      "Tensor(\"activation_11/Identity:0\", shape=(None, 4096, 1024), dtype=float32)\n"
     ]
    }
   ],
   "source": [
    "# (1) input\n",
    "input = keras.Input(shape=(num_points,num_channels))\n",
    "# (2)\tInput transform. Apply a T-Net module (which outputs a 3x3 transformation matrix) to standardize the input.\n",
    "x= TNet(add_regularization=False,bn_momentum=bn_momentum)(input)\n",
    "\n",
    "# (3)\tTwo point-wise convolution. shared mlp(64,64)\n",
    "x = custom_conv(input,64)\n",
    "x = custom_conv(x,64)\n",
    "\n",
    "# (4)\tFeature transform. Apply a T-Net module (which outputs a 64x64 transformation matrix) to standardize the feature.\n",
    "x= TNet(add_regularization=True,bn_momentum=bn_momentum)(x)\n",
    "\n",
    "# (5)\tThree point-wise convolution. shared mlp(64,128,1024)\n",
    "local_feat = custom_conv(x,64)\n",
    "x = custom_conv(local_feat,128)\n",
    "x = custom_conv(x,1024)\n",
    "\n",
    "# (6)\tMax pooling to aggregate information over all points to gain the global descriptor (1024 vector)\n",
    "# TODO: compare GlobalMaxPool1D with MaxPool1D\n",
    "global_feat= keras.layers.GlobalMaxPool1D()(x)\n",
    "print(x)\n"
   ]
  },
  {
   "cell_type": "markdown",
   "metadata": {},
   "source": [
    "### 2.Concatenate the global descriptor (1024 vector) with 3rd shared mlp layer (Nx64) to gain the local-global features(Nx1088)"
   ]
  },
  {
   "cell_type": "code",
   "execution_count": 14,
   "metadata": {
    "tags": []
   },
   "outputs": [
    {
     "name": "stdout",
     "output_type": "stream",
     "text": [
      "Tensor(\"concat:0\", shape=(None, 4096, 1088), dtype=float32)\n"
     ]
    }
   ],
   "source": [
    "global_feat=tf.expand_dims(global_feat,axis=1)\n",
    "global_feat=tf.tile(global_feat,[1,num_points,1])\n",
    "x=tf.concat([local_feat,global_feat],axis=-1)\n",
    "print(x)"
   ]
  },
  {
   "cell_type": "markdown",
   "metadata": {},
   "source": [
    "### 3.apply five point-wise convolution-mlp(512,256,128,128,m) to output the segmentation scores and create the model"
   ]
  },
  {
   "cell_type": "code",
   "execution_count": 15,
   "metadata": {
    "tags": []
   },
   "outputs": [
    {
     "name": "stdout",
     "output_type": "stream",
     "text": [
      "(None, 4096, 40)\n"
     ]
    }
   ],
   "source": [
    "x = custom_conv(x,512)\n",
    "x = custom_conv(x,256)\n",
    "x = custom_conv(x,128)\n",
    "x = custom_conv(x,128)\n",
    "output = custom_conv(x,num_classes,activation='softmax')\n",
    "print(output.shape)"
   ]
  },
  {
   "cell_type": "code",
   "execution_count": 16,
   "metadata": {
    "tags": []
   },
   "outputs": [
    {
     "name": "stdout",
     "output_type": "stream",
     "text": [
      "Model: \"model_1\"\n",
      "__________________________________________________________________________________________________\n",
      "Layer (type)                    Output Shape         Param #     Connected to                     \n",
      "==================================================================================================\n",
      "input_3 (InputLayer)            [(None, 4096, 3)]    0                                            \n",
      "__________________________________________________________________________________________________\n",
      "conv1d_5 (Conv1D)               (None, 4096, 64)     256         input_3[0][0]                    \n",
      "__________________________________________________________________________________________________\n",
      "batch_normalization_13 (BatchNo (None, 4096, 64)     256         conv1d_5[0][0]                   \n",
      "__________________________________________________________________________________________________\n",
      "activation_7 (Activation)       (None, 4096, 64)     0           batch_normalization_13[0][0]     \n",
      "__________________________________________________________________________________________________\n",
      "conv1d_6 (Conv1D)               (None, 4096, 64)     4160        activation_7[0][0]               \n",
      "__________________________________________________________________________________________________\n",
      "batch_normalization_14 (BatchNo (None, 4096, 64)     256         conv1d_6[0][0]                   \n",
      "__________________________________________________________________________________________________\n",
      "activation_8 (Activation)       (None, 4096, 64)     0           batch_normalization_14[0][0]     \n",
      "__________________________________________________________________________________________________\n",
      "t_net_3 (TNet)                  (None, 4096, 64)     1851584     activation_8[0][0]               \n",
      "__________________________________________________________________________________________________\n",
      "conv1d_7 (Conv1D)               (None, 4096, 64)     4160        t_net_3[0][0]                    \n",
      "__________________________________________________________________________________________________\n",
      "batch_normalization_17 (BatchNo (None, 4096, 64)     256         conv1d_7[0][0]                   \n",
      "__________________________________________________________________________________________________\n",
      "activation_9 (Activation)       (None, 4096, 64)     0           batch_normalization_17[0][0]     \n",
      "__________________________________________________________________________________________________\n",
      "conv1d_8 (Conv1D)               (None, 4096, 128)    8320        activation_9[0][0]               \n",
      "__________________________________________________________________________________________________\n",
      "batch_normalization_18 (BatchNo (None, 4096, 128)    512         conv1d_8[0][0]                   \n",
      "__________________________________________________________________________________________________\n",
      "activation_10 (Activation)      (None, 4096, 128)    0           batch_normalization_18[0][0]     \n",
      "__________________________________________________________________________________________________\n",
      "conv1d_9 (Conv1D)               (None, 4096, 1024)   132096      activation_10[0][0]              \n",
      "__________________________________________________________________________________________________\n",
      "batch_normalization_19 (BatchNo (None, 4096, 1024)   4096        conv1d_9[0][0]                   \n",
      "__________________________________________________________________________________________________\n",
      "activation_11 (Activation)      (None, 4096, 1024)   0           batch_normalization_19[0][0]     \n",
      "__________________________________________________________________________________________________\n",
      "global_max_pooling1d_1 (GlobalM (None, 1024)         0           activation_11[0][0]              \n",
      "__________________________________________________________________________________________________\n",
      "tf_op_layer_ExpandDims (TensorF [(None, 1, 1024)]    0           global_max_pooling1d_1[0][0]     \n",
      "__________________________________________________________________________________________________\n",
      "tf_op_layer_Tile (TensorFlowOpL [(None, 4096, 1024)] 0           tf_op_layer_ExpandDims[0][0]     \n",
      "__________________________________________________________________________________________________\n",
      "tf_op_layer_concat (TensorFlowO [(None, 4096, 1088)] 0           activation_9[0][0]               \n",
      "                                                                 tf_op_layer_Tile[0][0]           \n",
      "__________________________________________________________________________________________________\n",
      "conv1d_10 (Conv1D)              (None, 4096, 512)    557568      tf_op_layer_concat[0][0]         \n",
      "__________________________________________________________________________________________________\n",
      "batch_normalization_20 (BatchNo (None, 4096, 512)    2048        conv1d_10[0][0]                  \n",
      "__________________________________________________________________________________________________\n",
      "activation_12 (Activation)      (None, 4096, 512)    0           batch_normalization_20[0][0]     \n",
      "__________________________________________________________________________________________________\n",
      "conv1d_11 (Conv1D)              (None, 4096, 256)    131328      activation_12[0][0]              \n",
      "__________________________________________________________________________________________________\n",
      "batch_normalization_21 (BatchNo (None, 4096, 256)    1024        conv1d_11[0][0]                  \n",
      "__________________________________________________________________________________________________\n",
      "activation_13 (Activation)      (None, 4096, 256)    0           batch_normalization_21[0][0]     \n",
      "__________________________________________________________________________________________________\n",
      "conv1d_12 (Conv1D)              (None, 4096, 128)    32896       activation_13[0][0]              \n",
      "__________________________________________________________________________________________________\n",
      "batch_normalization_22 (BatchNo (None, 4096, 128)    512         conv1d_12[0][0]                  \n",
      "__________________________________________________________________________________________________\n",
      "activation_14 (Activation)      (None, 4096, 128)    0           batch_normalization_22[0][0]     \n",
      "__________________________________________________________________________________________________\n",
      "conv1d_13 (Conv1D)              (None, 4096, 128)    16512       activation_14[0][0]              \n",
      "__________________________________________________________________________________________________\n",
      "batch_normalization_23 (BatchNo (None, 4096, 128)    512         conv1d_13[0][0]                  \n",
      "__________________________________________________________________________________________________\n",
      "activation_15 (Activation)      (None, 4096, 128)    0           batch_normalization_23[0][0]     \n",
      "__________________________________________________________________________________________________\n",
      "conv1d_14 (Conv1D)              (None, 4096, 40)     5160        activation_15[0][0]              \n",
      "__________________________________________________________________________________________________\n",
      "batch_normalization_24 (BatchNo (None, 4096, 40)     160         conv1d_14[0][0]                  \n",
      "__________________________________________________________________________________________________\n",
      "activation_16 (Activation)      (None, 4096, 40)     0           batch_normalization_24[0][0]     \n",
      "==================================================================================================\n",
      "Total params: 2,753,672\n",
      "Trainable params: 2,747,320\n",
      "Non-trainable params: 6,352\n",
      "__________________________________________________________________________________________________\n"
     ]
    }
   ],
   "source": [
    "# build the model\n",
    "model = keras.models.Model(inputs=input, outputs=output)\n",
    "model.summary()"
   ]
  },
  {
   "cell_type": "markdown",
   "metadata": {
    "toc-hr-collapsed": true
   },
   "source": [
    "## final code"
   ]
  },
  {
   "cell_type": "markdown",
   "metadata": {},
   "source": [
    "### classification"
   ]
  },
  {
   "cell_type": "code",
   "execution_count": 21,
   "metadata": {
    "tags": []
   },
   "outputs": [
    {
     "name": "stdout",
     "output_type": "stream",
     "text": [
      "Model: \"model_3\"\n",
      "_________________________________________________________________\n",
      "Layer (type)                 Output Shape              Param #   \n",
      "=================================================================\n",
      "input_5 (InputLayer)         [(None, 4096, 3)]         0         \n",
      "_________________________________________________________________\n",
      "conv1d_29 (Conv1D)           (None, 4096, 64)          256       \n",
      "_________________________________________________________________\n",
      "batch_normalization_51 (Batc (None, 4096, 64)          256       \n",
      "_________________________________________________________________\n",
      "activation_33 (Activation)   (None, 4096, 64)          0         \n",
      "_________________________________________________________________\n",
      "conv1d_30 (Conv1D)           (None, 4096, 64)          4160      \n",
      "_________________________________________________________________\n",
      "batch_normalization_52 (Batc (None, 4096, 64)          256       \n",
      "_________________________________________________________________\n",
      "activation_34 (Activation)   (None, 4096, 64)          0         \n",
      "_________________________________________________________________\n",
      "t_net_9 (TNet)               (None, 4096, 64)          1851584   \n",
      "_________________________________________________________________\n",
      "conv1d_31 (Conv1D)           (None, 4096, 64)          4160      \n",
      "_________________________________________________________________\n",
      "batch_normalization_55 (Batc (None, 4096, 64)          256       \n",
      "_________________________________________________________________\n",
      "activation_35 (Activation)   (None, 4096, 64)          0         \n",
      "_________________________________________________________________\n",
      "conv1d_32 (Conv1D)           (None, 4096, 128)         8320      \n",
      "_________________________________________________________________\n",
      "batch_normalization_56 (Batc (None, 4096, 128)         512       \n",
      "_________________________________________________________________\n",
      "activation_36 (Activation)   (None, 4096, 128)         0         \n",
      "_________________________________________________________________\n",
      "conv1d_33 (Conv1D)           (None, 4096, 1024)        132096    \n",
      "_________________________________________________________________\n",
      "batch_normalization_57 (Batc (None, 4096, 1024)        4096      \n",
      "_________________________________________________________________\n",
      "activation_37 (Activation)   (None, 4096, 1024)        0         \n",
      "_________________________________________________________________\n",
      "global_max_pooling1d_4 (Glob (None, 1024)              0         \n",
      "_________________________________________________________________\n",
      "dense_26 (Dense)             (None, 512)               524800    \n",
      "_________________________________________________________________\n",
      "batch_normalization_58 (Batc (None, 512)               2048      \n",
      "_________________________________________________________________\n",
      "activation_38 (Activation)   (None, 512)               0         \n",
      "_________________________________________________________________\n",
      "dense_27 (Dense)             (None, 256)               131328    \n",
      "_________________________________________________________________\n",
      "batch_normalization_59 (Batc (None, 256)               1024      \n",
      "_________________________________________________________________\n",
      "activation_39 (Activation)   (None, 256)               0         \n",
      "_________________________________________________________________\n",
      "dropout_2 (Dropout)          (None, 256)               0         \n",
      "_________________________________________________________________\n",
      "dense_28 (Dense)             (None, 40)                10280     \n",
      "=================================================================\n",
      "Total params: 2,675,432\n",
      "Trainable params: 2,669,672\n",
      "Non-trainable params: 5,760\n",
      "_________________________________________________________________\n"
     ]
    }
   ],
   "source": [
    "# (1) input\n",
    "input = keras.Input(shape=(num_points,num_channels))\n",
    "# (2)\tInput transform. Apply a T-Net module (which outputs a 3x3 transformation matrix) to standardize the input.\n",
    "x= TNet(add_regularization=False,bn_momentum=bn_momentum)(input)\n",
    "\n",
    "# (3)\tTwo point-wise convolution. shared mlp(64,64)\n",
    "x = custom_conv(input,64)\n",
    "x = custom_conv(x,64)\n",
    "\n",
    "# (4)\tFeature transform. Apply a T-Net module (which outputs a 64x64 transformation matrix) to standardize the feature.\n",
    "x= TNet(add_regularization=True,bn_momentum=bn_momentum)(x)\n",
    "\n",
    "# (5)\tThree point-wise convolution. shared mlp(64,128,1024)\n",
    "x = custom_conv(x,64)\n",
    "x = custom_conv(x,128)\n",
    "x = custom_conv(x,1024)\n",
    "\n",
    "# (6)\tMax pooling to aggregate information over all points to gain the global descriptor (1024 vector)\n",
    "# TODO: compare GlobalMaxPool1D with MaxPool1D\n",
    "x= keras.layers.GlobalMaxPool1D()(x)\n",
    "# (7)\tOutput: three fully connected layers to predict output scores. mlp(512,256,k)\n",
    "x = custom_dense(x,512)\n",
    "x = custom_dense(x,256)\n",
    "x = keras.layers.Dropout(rate=0.3)(x)\n",
    "output = keras.layers.Dense(units=num_classes, activation='softmax')(x)\n",
    "# build the model\n",
    "model = keras.models.Model(inputs=input, outputs=output)\n",
    "model.summary()"
   ]
  },
  {
   "cell_type": "markdown",
   "metadata": {},
   "source": [
    "### segmentation"
   ]
  },
  {
   "cell_type": "code",
   "execution_count": 22,
   "metadata": {
    "tags": []
   },
   "outputs": [
    {
     "name": "stdout",
     "output_type": "stream",
     "text": [
      "Model: \"model_4\"\n",
      "__________________________________________________________________________________________________\n",
      "Layer (type)                    Output Shape         Param #     Connected to                     \n",
      "==================================================================================================\n",
      "input_6 (InputLayer)            [(None, 4096, 3)]    0                                            \n",
      "__________________________________________________________________________________________________\n",
      "conv1d_34 (Conv1D)              (None, 4096, 64)     256         input_6[0][0]                    \n",
      "__________________________________________________________________________________________________\n",
      "batch_normalization_62 (BatchNo (None, 4096, 64)     256         conv1d_34[0][0]                  \n",
      "__________________________________________________________________________________________________\n",
      "activation_40 (Activation)      (None, 4096, 64)     0           batch_normalization_62[0][0]     \n",
      "__________________________________________________________________________________________________\n",
      "conv1d_35 (Conv1D)              (None, 4096, 64)     4160        activation_40[0][0]              \n",
      "__________________________________________________________________________________________________\n",
      "batch_normalization_63 (BatchNo (None, 4096, 64)     256         conv1d_35[0][0]                  \n",
      "__________________________________________________________________________________________________\n",
      "activation_41 (Activation)      (None, 4096, 64)     0           batch_normalization_63[0][0]     \n",
      "__________________________________________________________________________________________________\n",
      "t_net_11 (TNet)                 (None, 4096, 64)     1851584     activation_41[0][0]              \n",
      "__________________________________________________________________________________________________\n",
      "conv1d_36 (Conv1D)              (None, 4096, 64)     4160        t_net_11[0][0]                   \n",
      "__________________________________________________________________________________________________\n",
      "batch_normalization_66 (BatchNo (None, 4096, 64)     256         conv1d_36[0][0]                  \n",
      "__________________________________________________________________________________________________\n",
      "activation_42 (Activation)      (None, 4096, 64)     0           batch_normalization_66[0][0]     \n",
      "__________________________________________________________________________________________________\n",
      "conv1d_37 (Conv1D)              (None, 4096, 128)    8320        activation_42[0][0]              \n",
      "__________________________________________________________________________________________________\n",
      "batch_normalization_67 (BatchNo (None, 4096, 128)    512         conv1d_37[0][0]                  \n",
      "__________________________________________________________________________________________________\n",
      "activation_43 (Activation)      (None, 4096, 128)    0           batch_normalization_67[0][0]     \n",
      "__________________________________________________________________________________________________\n",
      "conv1d_38 (Conv1D)              (None, 4096, 1024)   132096      activation_43[0][0]              \n",
      "__________________________________________________________________________________________________\n",
      "batch_normalization_68 (BatchNo (None, 4096, 1024)   4096        conv1d_38[0][0]                  \n",
      "__________________________________________________________________________________________________\n",
      "activation_44 (Activation)      (None, 4096, 1024)   0           batch_normalization_68[0][0]     \n",
      "__________________________________________________________________________________________________\n",
      "global_max_pooling1d_5 (GlobalM (None, 1024)         0           activation_44[0][0]              \n",
      "__________________________________________________________________________________________________\n",
      "tf_op_layer_ExpandDims_2 (Tenso [(None, 1, 1024)]    0           global_max_pooling1d_5[0][0]     \n",
      "__________________________________________________________________________________________________\n",
      "tf_op_layer_Tile_2 (TensorFlowO [(None, 4096, 1024)] 0           tf_op_layer_ExpandDims_2[0][0]   \n",
      "__________________________________________________________________________________________________\n",
      "tf_op_layer_concat_1 (TensorFlo [(None, 4096, 1088)] 0           activation_42[0][0]              \n",
      "                                                                 tf_op_layer_Tile_2[0][0]         \n",
      "__________________________________________________________________________________________________\n",
      "conv1d_39 (Conv1D)              (None, 4096, 512)    557568      tf_op_layer_concat_1[0][0]       \n",
      "__________________________________________________________________________________________________\n",
      "batch_normalization_69 (BatchNo (None, 4096, 512)    2048        conv1d_39[0][0]                  \n",
      "__________________________________________________________________________________________________\n",
      "activation_45 (Activation)      (None, 4096, 512)    0           batch_normalization_69[0][0]     \n",
      "__________________________________________________________________________________________________\n",
      "conv1d_40 (Conv1D)              (None, 4096, 256)    131328      activation_45[0][0]              \n",
      "__________________________________________________________________________________________________\n",
      "batch_normalization_70 (BatchNo (None, 4096, 256)    1024        conv1d_40[0][0]                  \n",
      "__________________________________________________________________________________________________\n",
      "activation_46 (Activation)      (None, 4096, 256)    0           batch_normalization_70[0][0]     \n",
      "__________________________________________________________________________________________________\n",
      "conv1d_41 (Conv1D)              (None, 4096, 128)    32896       activation_46[0][0]              \n",
      "__________________________________________________________________________________________________\n",
      "batch_normalization_71 (BatchNo (None, 4096, 128)    512         conv1d_41[0][0]                  \n",
      "__________________________________________________________________________________________________\n",
      "activation_47 (Activation)      (None, 4096, 128)    0           batch_normalization_71[0][0]     \n",
      "__________________________________________________________________________________________________\n",
      "conv1d_42 (Conv1D)              (None, 4096, 128)    16512       activation_47[0][0]              \n",
      "__________________________________________________________________________________________________\n",
      "batch_normalization_72 (BatchNo (None, 4096, 128)    512         conv1d_42[0][0]                  \n",
      "__________________________________________________________________________________________________\n",
      "activation_48 (Activation)      (None, 4096, 128)    0           batch_normalization_72[0][0]     \n",
      "__________________________________________________________________________________________________\n",
      "conv1d_43 (Conv1D)              (None, 4096, 40)     5160        activation_48[0][0]              \n",
      "__________________________________________________________________________________________________\n",
      "batch_normalization_73 (BatchNo (None, 4096, 40)     160         conv1d_43[0][0]                  \n",
      "__________________________________________________________________________________________________\n",
      "activation_49 (Activation)      (None, 4096, 40)     0           batch_normalization_73[0][0]     \n",
      "==================================================================================================\n",
      "Total params: 2,753,672\n",
      "Trainable params: 2,747,320\n",
      "Non-trainable params: 6,352\n",
      "__________________________________________________________________________________________________\n"
     ]
    }
   ],
   "source": [
    "# (1) input\n",
    "input = keras.Input(shape=(num_points,num_channels))\n",
    "# (2)\tInput transform. Apply a T-Net module (which outputs a 3x3 transformation matrix) to standardize the input.\n",
    "x= TNet(add_regularization=False,bn_momentum=bn_momentum)(input)\n",
    "\n",
    "# (3)\tTwo point-wise convolution. shared mlp(64,64)\n",
    "x = custom_conv(input,64)\n",
    "x = custom_conv(x,64)\n",
    "\n",
    "# (4)\tFeature transform. Apply a T-Net module (which outputs a 64x64 transformation matrix) to standardize the feature.\n",
    "x= TNet(add_regularization=True,bn_momentum=bn_momentum)(x)\n",
    "\n",
    "# (5)\tThree point-wise convolution. shared mlp(64,128,1024)\n",
    "local_feat = custom_conv(x,64)\n",
    "x = custom_conv(local_feat,128)\n",
    "x = custom_conv(x,1024)\n",
    "\n",
    "# (6)\tMax pooling to aggregate information over all points to gain the global descriptor (1024 vector)\n",
    "# TODO: compare GlobalMaxPool1D with MaxPool1D\n",
    "global_feat= keras.layers.GlobalMaxPool1D()(x)\n",
    "\n",
    "(7)\n",
    "global_feat=tf.expand_dims(global_feat,axis=1)\n",
    "global_feat=tf.tile(global_feat,[1,num_points,1])\n",
    "x=tf.concat([local_feat,global_feat],axis=-1)\n",
    "\n",
    "(8)\n",
    "x = custom_conv(x,512)\n",
    "x = custom_conv(x,256)\n",
    "x = custom_conv(x,128)\n",
    "x = custom_conv(x,128)\n",
    "output = custom_conv(x,num_classes,activation='softmax')\n",
    "\n",
    "# build the model\n",
    "model = keras.models.Model(inputs=input, outputs=output)\n",
    "model.summary()"
   ]
  },
  {
   "cell_type": "markdown",
   "metadata": {
    "toc-hr-collapsed": false
   },
   "source": [
    "## model diagram"
   ]
  },
  {
   "cell_type": "markdown",
   "metadata": {},
   "source": [
    "### classification\n",
    "\n"
   ]
  },
  {
   "cell_type": "markdown",
   "metadata": {},
   "source": [
    "### segmentation\n"
   ]
  }
 ],
 "metadata": {
  "kernelspec": {
   "display_name": "Python 3.7.7 64-bit ('tf2': conda)",
   "language": "python",
   "name": "python37764bittf2conda4627392c218747f198584013697e31d1"
  },
  "language_info": {
   "codemirror_mode": {
    "name": "ipython",
    "version": 3
   },
   "file_extension": ".py",
   "mimetype": "text/x-python",
   "name": "python",
   "nbconvert_exporter": "python",
   "pygments_lexer": "ipython3",
   "version": "3.7.7"
  }
 },
 "nbformat": 4,
 "nbformat_minor": 4
}
